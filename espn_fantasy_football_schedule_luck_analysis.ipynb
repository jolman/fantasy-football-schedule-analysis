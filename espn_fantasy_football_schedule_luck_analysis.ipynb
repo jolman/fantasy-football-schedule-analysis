{
 "cells": [
  {
   "cell_type": "code",
   "execution_count": null,
   "id": "a9fe3211",
   "metadata": {
    "ExecuteTime": {
     "end_time": "2023-10-17T20:40:29.936533Z",
     "start_time": "2023-10-17T20:40:26.824581Z"
    }
   },
   "outputs": [],
   "source": [
    "from espn_api.football import League\n",
    "import numpy as np\n",
    "import yaml\n",
    "from random import shuffle\n",
    "import time\n",
    "from math import factorial\n",
    "import pandas as pd\n",
    "import matplotlib.pyplot as plt\n",
    "from itertools import permutations"
   ]
  },
  {
   "cell_type": "code",
   "execution_count": null,
   "id": "9e12c723",
   "metadata": {},
   "outputs": [],
   "source": [
    "# CONSTANTS TO SET!\n",
    "\n",
    "ANALYSIS_YEAR = 2023\n",
    "    \n",
    "LEAGUE_ID = 111111111  # Your league ID (found in any URL related to your league)\n",
    "\n",
    "NUM_SCHEDULE_SCENARIOS = 100000 # Set number of different schedule scenarios to try."
   ]
  },
  {
   "cell_type": "code",
   "execution_count": null,
   "id": "3df2e30a",
   "metadata": {
    "ExecuteTime": {
     "end_time": "2023-10-17T20:40:31.136927Z",
     "start_time": "2023-10-17T20:40:29.937773Z"
    }
   },
   "outputs": [],
   "source": [
    "# You'll need ESPN cookie info to get your league info.\n",
    "# Instructions here: https://github.com/cwendt94/espn-api/discussions/150\n",
    "# \n",
    "# I prefer to store this in a credentials yaml file,\n",
    "# but you could also just paste them in here instead.\n",
    "\n",
    "with open(\"credentials.yaml\") as file:\n",
    "    creds = yaml.load(file, Loader=yaml.FullLoader)\n",
    "\n",
    "league = League(league_id=LEAGUE_ID, year=ANALYSIS_YEAR, espn_s2=creds[\"espn_s2\"], swid=creds[\"swid\"])"
   ]
  },
  {
   "cell_type": "code",
   "execution_count": null,
   "id": "c9a9d7da",
   "metadata": {
    "ExecuteTime": {
     "end_time": "2023-10-17T20:40:31.141512Z",
     "start_time": "2023-10-17T20:40:31.138065Z"
    }
   },
   "outputs": [],
   "source": [
    "# Test to make sure your league was imported properly\n",
    "teams = league.teams\n",
    "print(teams)"
   ]
  },
  {
   "cell_type": "code",
   "execution_count": null,
   "id": "27a52a29",
   "metadata": {
    "ExecuteTime": {
     "end_time": "2023-10-17T20:40:31.148420Z",
     "start_time": "2023-10-17T20:40:31.145298Z"
    }
   },
   "outputs": [],
   "source": [
    "# Get full schedule\n",
    "\n",
    "full_schedule = []\n",
    "for week, _ in enumerate(teams[0].schedule):\n",
    "    if week < league.current_week:\n",
    "        week_matchups = np.zeros((len(league.teams), len(league.teams)))\n",
    "        for index, team in enumerate(teams):\n",
    "            week_matchups[index][index] = 1\n",
    "            week_matchups[index][team.schedule[week].team_id-1] = -1\n",
    "        full_schedule.append(week_matchups)\n",
    "    "
   ]
  },
  {
   "cell_type": "code",
   "execution_count": null,
   "id": "332e01f8",
   "metadata": {
    "ExecuteTime": {
     "end_time": "2023-10-17T20:40:31.165129Z",
     "start_time": "2023-10-17T20:40:31.160960Z"
    }
   },
   "outputs": [],
   "source": [
    "# Get scores from past weeks\n",
    "\n",
    "scores = np.array([team.scores for team in league.teams])\n",
    "print(scores[:,:])"
   ]
  },
  {
   "cell_type": "code",
   "execution_count": null,
   "id": "0f7dd7fc",
   "metadata": {
    "ExecuteTime": {
     "end_time": "2023-10-17T20:40:31.169708Z",
     "start_time": "2023-10-17T20:40:31.166456Z"
    }
   },
   "outputs": [],
   "source": [
    "# Calculate wins\n",
    "\n",
    "results = [(np.matmul(full_schedule[week], scores[:, week])*100).clip(min=0, max=1) for week in range(len(full_schedule)-1)]\n",
    "# print(results)"
   ]
  },
  {
   "cell_type": "code",
   "execution_count": null,
   "id": "fc6cf0f1",
   "metadata": {
    "ExecuteTime": {
     "end_time": "2023-10-17T20:42:01.278945Z",
     "start_time": "2023-10-17T20:40:31.172199Z"
    }
   },
   "outputs": [],
   "source": [
    "# Iterate through schedule scenarios\n",
    "\n",
    "teams_list = league.teams\n",
    "\n",
    "results = {\n",
    "    team: {\n",
    "        \"min\": league.current_week - 1,\n",
    "        \"max\": 0,\n",
    "        \"avg\": 0,\n",
    "    }\n",
    "for team in teams_list}\n",
    "\n",
    "num_scenarios = NUM_SCHEDULE_SCENARIOS\n",
    "\n",
    "# If the number of teams is small enough, we can look at all possible schedule setups explicitly!\n",
    "if len(teams_list) <= 8:\n",
    "    scenarios = list(permutations(teams_list))\n",
    "    num_scenarios = len(scenarios)\n",
    "    \n",
    "start = time.time()\n",
    "for i in range(num_scenarios):\n",
    "    if len(teams_list) <= 8:\n",
    "        teams_list = scenarios[i]\n",
    "    else:\n",
    "        # If there are more than 8 teams, we randomize the schedule scenarios\n",
    "        # instead of trying to iterate through a giant list.\n",
    "        shuffle(teams_list)\n",
    "        \n",
    "    scenario_scores = np.array([team.scores for team in teams_list])\n",
    "    scenario_results = [\n",
    "        (np.matmul(full_schedule[week],scenario_scores[:, week])*100)\n",
    "        .clip(min=0, max=1)\n",
    "        for week in range(len(full_schedule)-1)\n",
    "    ]\n",
    "    for index, team in enumerate(teams_list):\n",
    "        wins = 0\n",
    "        for w in scenario_results:\n",
    "            wins = wins + w[index]\n",
    "        if wins < results[team][\"min\"]:\n",
    "            results[team][\"min\"] = wins\n",
    "        if wins > results[team][\"max\"]:\n",
    "            results[team][\"max\"] = wins\n",
    "        results[team][\"avg\"] = results[team][\"avg\"] + wins\n",
    "\n",
    "for team, data in results.items():\n",
    "    data[\"avg\"] = round(data[\"avg\"] / num_scenarios, 2)\n",
    "    data[\"actual\"] = team.wins\n",
    "    data[\"diff\"] = round(data[\"actual\"] - data[\"avg\"], 2)\n",
    "\n",
    "print(\"Time elapsed: \" + str(time.time()-start))\n",
    "print(\"Scenarios calculated: \" + str(num_scenarios))"
   ]
  },
  {
   "cell_type": "code",
   "execution_count": null,
   "id": "f3404044",
   "metadata": {
    "ExecuteTime": {
     "end_time": "2023-10-17T20:42:01.299176Z",
     "start_time": "2023-10-17T20:42:01.280484Z"
    }
   },
   "outputs": [],
   "source": [
    "# Easy-to-read results\n",
    "friendly_results = {team.team_name:data for (team, data) in results.items()}\n",
    "results_df = pd.DataFrame.from_dict(friendly_results, orient=\"index\")\n",
    "results_df.sort_values(\"avg\", inplace=True, ascending=False)\n",
    "display(results_df)"
   ]
  },
  {
   "cell_type": "code",
   "execution_count": null,
   "id": "2b38e33e",
   "metadata": {
    "ExecuteTime": {
     "end_time": "2023-10-17T20:42:01.530256Z",
     "start_time": "2023-10-17T20:42:01.302285Z"
    }
   },
   "outputs": [],
   "source": [
    "# Schedule luck visualization\n",
    "\n",
    "teams = results_df.index\n",
    "schedule_luck = results_df[\"diff\"]\n",
    "actual_wins = results_df[\"actual\"]\n",
    "max_wins = results_df[\"max\"]\n",
    "min_wins = results_df[\"min\"]\n",
    "expected_wins = results_df[\"avg\"]\n",
    "\n",
    "fig = plt.figure(figsize=(8, 6), dpi=100)\n",
    "ax = fig.add_axes([0, 0, 1, 1])\n",
    "bars = ax.bar(teams, schedule_luck)\n",
    "\n",
    "plt.xticks(rotation=90)\n",
    "for bar in bars:\n",
    "    x = bar.get_x()\n",
    "    y = bar.get_height()\n",
    "    width = bar.get_width()\n",
    "    offset = 0.02\n",
    "    if y < 0:\n",
    "        y_pos = y - (offset + 0.05)\n",
    "        value = f\"{y}\"\n",
    "    else:\n",
    "        y_pos = y + offset\n",
    "        value = f\"+{y}\"\n",
    "    plt.text(x + width/2, y_pos, value, weight=\"bold\", ha=\"center\", color=(\"red\" if y < 0 else \"black\"))\n",
    "\n",
    "    \n",
    "ax.spines['top'].set_visible(False)\n",
    "ax.spines['right'].set_visible(False)\n",
    "ax.spines['left'].set_visible(False)\n",
    "ax.spines['bottom'].set_color('#DDDDDD')\n",
    "ax.tick_params(bottom=False, left=False)\n",
    "ax.set_axisbelow(True)\n",
    "ax.yaxis.grid(True, color='#EEEEEE')\n",
    "ax.xaxis.grid(False)\n",
    "plt.title(\"Actual Wins Minus Expected Wins\", fontsize=18)\n"
   ]
  },
  {
   "cell_type": "code",
   "execution_count": null,
   "id": "944ef76b",
   "metadata": {
    "ExecuteTime": {
     "end_time": "2023-10-17T20:42:01.702972Z",
     "start_time": "2023-10-17T20:42:01.531968Z"
    }
   },
   "outputs": [],
   "source": [
    "# Season summary visualization\n",
    "\n",
    "fig = plt.figure(figsize=(8, 6), dpi=100)\n",
    "ax = fig.add_axes([0, 0, 1, 0.9])\n",
    "\n",
    "week_list = [league.current_week - 1] * len(teams_list)\n",
    "\n",
    "expected_points, = ax.plot(teams, expected_wins, ls=\"\", marker=\".\", ms=30, label=\"Expected Wins\")\n",
    "max_points, = ax.plot(teams, max_wins, ls=\"\", color=\"green\", marker=\".\", ms=30, label=\"Max Possible Wins\")\n",
    "min_points, = ax.plot(teams, min_wins, ls=\"\", color=\"red\", marker=\".\", ms=30, label=\"Min Possible Wins\")\n",
    "actual_points, = ax.plot(teams, actual_wins, ls=\"\", color=\"black\", marker=\"x\", markeredgewidth=5, ms=20, label=\"Actual Wins\")\n",
    "\n",
    "range_lines = ax.vlines(teams, min_wins, max_wins, color=\"#cccccc\", ls=\"dashed\")\n",
    "\n",
    "\n",
    "\n",
    "plt.xticks(rotation=90)\n",
    "\n",
    "    \n",
    "ax.spines['top'].set_visible(False)\n",
    "ax.spines['right'].set_visible(False)\n",
    "ax.spines['left'].set_visible(False)\n",
    "ax.spines['bottom'].set_visible(False)\n",
    "ax.tick_params(bottom=False, left=False)\n",
    "ax.set_axisbelow(True)\n",
    "ax.yaxis.grid(True, color='#EEEEEE')\n",
    "ax.xaxis.grid(False)\n",
    "ax.legend(\n",
    "    handles=[expected_points, actual_points, max_points, min_points],\n",
    "    loc=\"upper center\",\n",
    "    bbox_to_anchor=(0, 1, 1, .1),\n",
    "    mode=\"expand\",\n",
    "    ncol=4,\n",
    "    borderpad=1.2\n",
    ")"
   ]
  },
  {
   "cell_type": "code",
   "execution_count": null,
   "id": "8f757f23",
   "metadata": {},
   "outputs": [],
   "source": []
  }
 ],
 "metadata": {
  "kernelspec": {
   "display_name": "Python 3 (ipykernel)",
   "language": "python",
   "name": "python3"
  },
  "language_info": {
   "codemirror_mode": {
    "name": "ipython",
    "version": 3
   },
   "file_extension": ".py",
   "mimetype": "text/x-python",
   "name": "python",
   "nbconvert_exporter": "python",
   "pygments_lexer": "ipython3",
   "version": "3.10.11"
  },
  "toc": {
   "base_numbering": 1,
   "nav_menu": {},
   "number_sections": true,
   "sideBar": true,
   "skip_h1_title": false,
   "title_cell": "Table of Contents",
   "title_sidebar": "Contents",
   "toc_cell": false,
   "toc_position": {
    "height": "calc(100% - 180px)",
    "left": "10px",
    "top": "150px",
    "width": "180.667px"
   },
   "toc_section_display": true,
   "toc_window_display": false
  }
 },
 "nbformat": 4,
 "nbformat_minor": 5
}
